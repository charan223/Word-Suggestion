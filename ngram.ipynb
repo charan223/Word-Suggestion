{
 "cells": [
  {
   "cell_type": "code",
   "execution_count": null,
   "metadata": {},
   "outputs": [],
   "source": [
    "from collections import defaultdict"
   ]
  },
  {
   "cell_type": "code",
   "execution_count": null,
   "metadata": {},
   "outputs": [],
   "source": [
    "def build_conditional_probabilities(text):\n",
    "    #Input is text, output is array of probabilities of next word given current\n",
    "\n",
    "    tokenized_string = text.split()\n",
    "    previous_word = \"\"\n",
    "    dictionnary = defaultdict(list)\n",
    "\n",
    "    for current_word in tokenized_string:\n",
    "        if previous_word != \"\":\n",
    "            dictionnary[previous_word].append(current_word)\n",
    "        previous_word = current_word \n",
    "\n",
    "    for key in dictionnary.keys():\n",
    "        next_words = dictionnary[key]\n",
    "        unique_words = set(next_words)\n",
    "        nb_words = len(next_words)\n",
    "        probabilities_given_key = {}\n",
    "        for unique_word in unique_words:\n",
    "            probabilities_given_key[unique_word] = \\\n",
    "                float(next_words.count(unique_word)) / nb_words\n",
    "        dictionnary[key] = probabilities_given_key\n",
    "\n",
    "    return dictionnary\n",
    "\n",
    "\n",
    "def bigram_next_word_predictor(conditional_probabilities, current, next_candidate):\n",
    "    #Returns prob of next given current word\n",
    "\n",
    "    if conditional_probabilities.has_key(current):\n",
    "        if conditional_probabilities[current].has_key(next_candidate):\n",
    "            return conditional_probabilities[current][next_candidate]\n",
    "\n",
    "    return 0.0"
   ]
  },
  {
   "cell_type": "code",
   "execution_count": null,
   "metadata": {},
   "outputs": [],
   "source": [
    "# Corpus\n",
    "corpus = \"Hello Mr. Jade how are you, he loves riding a horse\"\n",
    "\n",
    "conditional_probabilities = build_conditional_probabilities(corpus)\n",
    "\n",
    "#prints probaility of \"how\" given \"Jade\", similarly others\n",
    "print bigram_next_word_predictor(conditional_probabilities, \"Jade\", \"how\")\n",
    "print bigram_next_word_predictor(conditional_probabilities, \"a\", \"horse\")"
   ]
  }
 ],
 "metadata": {
  "kernelspec": {
   "display_name": "Python 2",
   "language": "python",
   "name": "python2"
  },
  "language_info": {
   "codemirror_mode": {
    "name": "ipython",
    "version": 2
   },
   "file_extension": ".py",
   "mimetype": "text/x-python",
   "name": "python",
   "nbconvert_exporter": "python",
   "pygments_lexer": "ipython2",
   "version": "2.7.6"
  }
 },
 "nbformat": 4,
 "nbformat_minor": 2
}
