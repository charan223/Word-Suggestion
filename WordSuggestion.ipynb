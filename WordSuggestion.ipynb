{
 "cells": [
  {
   "cell_type": "code",
   "execution_count": 8,
   "metadata": {},
   "outputs": [],
   "source": [
    "# R. Sri Charan Reddy\n",
    "\n",
    "\n",
    "class Trie(object):\n",
    "    def __init__(self):\n",
    "        self.children = {}\n",
    "        # Flag to represent that a word ends at this node\n",
    "        self.flag = False\n",
    "        \n",
    "    def add(self, char):\n",
    "        self.children[char] = Trie()\n",
    "\n",
    "    #inserts a word into the trie\n",
    "    def insert(self, word):\n",
    "        node = self\n",
    "        for char in word:\n",
    "            if char not in node.children:\n",
    "                node.add(char)\n",
    "            node = node.children[char]\n",
    "        node.flag = True\n",
    "\n",
    "    # generates all strings with a given prefix\n",
    "    def all_suffixes(self, prefix):\n",
    "        results = set()\n",
    "        if self.flag:\n",
    "            results.add(prefix)\n",
    "        if not self.children: return results\n",
    "        return reduce(lambda a, b: a | b, [node.all_suffixes(prefix + char) for (char, node) in self.children.items()]) | results\n",
    "\n",
    "    #generates complete words\n",
    "    def autocomplete(self, prefix, k):\n",
    "        node = self\n",
    "        for char in prefix:\n",
    "            if char not in node.children:\n",
    "                return set()\n",
    "            node = node.children[char]\n",
    "        p = list(node.all_suffixes(prefix))\n",
    "        p.sort(lambda x,y: cmp(len(x), len(y)))\n",
    "\n",
    "        if len(p) > k:\n",
    "            return p[:k]\n",
    "        else:\n",
    "            return p"
   ]
  },
  {
   "cell_type": "code",
   "execution_count": 9,
   "metadata": {},
   "outputs": [
    {
     "name": "stdout",
     "output_type": "stream",
     "text": [
      "['chg', 'chn', 'chs', 'ch.', 'chef', 'chug', 'chub', 'chum', 'chut', 'chaw']\n"
     ]
    }
   ],
   "source": [
    "input_word = 'ch'\n",
    "k = 10\n",
    "\n",
    "tr = Trie()\n",
    "\n",
    "with open('words.txt') as f:\n",
    "    lines = f.readlines()\n",
    "lines = [x.strip() for x in lines] \n",
    "for i in lines:\n",
    "    tr.insert(i)\n",
    "\n",
    "print tr.autocomplete(input_word, k)"
   ]
  },
  {
   "cell_type": "code",
   "execution_count": null,
   "metadata": {},
   "outputs": [],
   "source": []
  }
 ],
 "metadata": {
  "kernelspec": {
   "display_name": "Python 2",
   "language": "python",
   "name": "python2"
  },
  "language_info": {
   "codemirror_mode": {
    "name": "ipython",
    "version": 2
   },
   "file_extension": ".py",
   "mimetype": "text/x-python",
   "name": "python",
   "nbconvert_exporter": "python",
   "pygments_lexer": "ipython2",
   "version": "2.7.6"
  }
 },
 "nbformat": 4,
 "nbformat_minor": 2
}
